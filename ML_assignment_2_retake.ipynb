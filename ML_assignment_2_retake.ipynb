{
 "cells": [
  {
   "cell_type": "markdown",
   "metadata": {},
   "source": [
    "This code is for predicting house prices using linear regression.\n"
   ]
  },
  {
   "cell_type": "code",
   "execution_count": 1,
   "metadata": {},
   "outputs": [],
   "source": [
    "#this part of code is for importing python packages used in this assignment \n",
    "import csv\n",
    "import pandas as pd\n",
    "import numpy as np\n",
    "from sklearn.linear_model import LinearRegression\n",
    "from sklearn.preprocessing import PolynomialFeatures\n",
    "\n"
   ]
  },
  {
   "cell_type": "code",
   "execution_count": 2,
   "metadata": {},
   "outputs": [
    {
     "name": "stdout",
     "output_type": "stream",
     "text": [
      "[[221900.]\n",
      " [538000.]\n",
      " [180000.]\n",
      " ...\n",
      " [253000.]\n",
      " [630000.]\n",
      " [216000.]]\n",
      "[[ 1.00000e+00  3.00000e+00  1.00000e+00 ... -1.22257e+02  1.34000e+03\n",
      "   5.65000e+03]\n",
      " [ 1.00000e+00  3.00000e+00  2.25000e+00 ... -1.22319e+02  1.69000e+03\n",
      "   7.63900e+03]\n",
      " [ 1.00000e+00  2.00000e+00  1.00000e+00 ... -1.22233e+02  2.72000e+03\n",
      "   8.06200e+03]\n",
      " ...\n",
      " [ 1.00000e+00  2.00000e+00  1.00000e+00 ... -1.22189e+02  1.40000e+03\n",
      "   7.16100e+03]\n",
      " [ 1.00000e+00  3.00000e+00  2.50000e+00 ... -1.21988e+02  2.61000e+03\n",
      "   3.33050e+04]\n",
      " [ 1.00000e+00  2.00000e+00  1.00000e+00 ... -1.22187e+02  1.27000e+03\n",
      "   1.07980e+04]]\n"
     ]
    }
   ],
   "source": [
    "#loading the data\n",
    "data_read = pd.read_csv('house_prices_data_training_data.csv').to_numpy()\n",
    "prices    = data_read[0:17999, 2:3].astype(np.float64)\n",
    "features  = data_read[0:17999, 3:21].astype(np.float64)\n",
    "b         = np.ones((features.shape[0],1))\n",
    "features  = np.hstack((b,features))\n",
    "print(prices)\n",
    "print(features)"
   ]
  },
  {
   "cell_type": "markdown",
   "metadata": {},
   "source": [
    "After we uploaded the data and made them ready for processing, we will apply linear regression\n"
   ]
  },
  {
   "cell_type": "markdown",
   "metadata": {},
   "source": [
    "This part will apply linear regression on all of the data set.\n",
    "This model is called model_1"
   ]
  },
  {
   "cell_type": "code",
   "execution_count": 3,
   "metadata": {},
   "outputs": [
    {
     "name": "stdout",
     "output_type": "stream",
     "text": [
      "Error in this model using the same training set is :\n",
      "[[1.98630112e+10]]\n"
     ]
    }
   ],
   "source": [
    "#model_1 is a linear regression model using all the data set \n",
    "model_1 = LinearRegression().fit(features,prices)\n",
    "theta_1 = np.transpose((model_1.coef_))\n",
    "#since there are no testing data set, we will evaluate this model using the same training data set\n",
    "price_pred_1 = model_1.predict(features)\n",
    "x_1          = prices-price_pred_1\n",
    "m_1          = price_pred_1.size\n",
    "print('Error in this model using the same training set is :')\n",
    "print((1/(2*m_1))*np.dot(x_1.T,x_1))"
   ]
  },
  {
   "cell_type": "markdown",
   "metadata": {},
   "source": [
    "We will apply linear regression with 70% of the data set for training and 30% for testing.\n"
   ]
  },
  {
   "cell_type": "markdown",
   "metadata": {},
   "source": [
    "This part will divide the data set according to the required ratio"
   ]
  },
  {
   "cell_type": "code",
   "execution_count": 4,
   "metadata": {},
   "outputs": [],
   "source": [
    "#training data set\n",
    "features_training = data_read[0:12599, 3:21].astype(np.float64)\n",
    "prices_training   = data_read[0:12599, 2:3].astype(np.float64)\n",
    "#testing data set\n",
    "features_testing  = data_read[12600:17999, 3:21].astype(np.float64)\n",
    "prices_testing    = data_read[12600:17999, 2:3].astype(np.float64)\n"
   ]
  },
  {
   "cell_type": "markdown",
   "metadata": {},
   "source": [
    "Now, we will apply linear regression using a polynomial of degree one.\n",
    "\n",
    "This model is called model_2."
   ]
  },
  {
   "cell_type": "code",
   "execution_count": 5,
   "metadata": {},
   "outputs": [
    {
     "name": "stdout",
     "output_type": "stream",
     "text": [
      "Training set error :\n",
      "[[2.06784705e+10]]\n",
      "---------------------------------------\n",
      "Testing set error :\n",
      "[[1.82040276e+10]]\n"
     ]
    }
   ],
   "source": [
    "model_2=LinearRegression().fit(features_training,prices_training)\n",
    "theta_2=np.transpose((model_2.coef_))\n",
    "#training set error \n",
    "price_pred_training = model_2.predict(features_training)\n",
    "x_training= prices_training-price_pred_training\n",
    "m_training=price_pred_training.size\n",
    "print('Training set error :')\n",
    "print((1/(2*m_training))*np.dot(x_training.T,x_training))\n",
    "print('---------------------------------------')\n",
    "#testing set error \n",
    "price_pred_testing = model_2.predict(features_testing)\n",
    "x_testing= prices_testing-price_pred_testing\n",
    "m_testing=price_pred_testing.size\n",
    "print('Testing set error :')\n",
    "print((1/(2*m_testing))*np.dot(x_testing.T,x_testing))\n"
   ]
  },
  {
   "cell_type": "markdown",
   "metadata": {},
   "source": [
    "Now, we need to use higher degrees of polynomials for the hypothesis function.\n",
    "\n",
    "Due to the large run time of the code, the generated ploynomials are of degrees 2,3,4."
   ]
  },
  {
   "cell_type": "code",
   "execution_count": 6,
   "metadata": {},
   "outputs": [
    {
     "name": "stdout",
     "output_type": "stream",
     "text": [
      "[[1.27164772e+10]]\n",
      "[[2.11074184e+10]]\n"
     ]
    }
   ],
   "source": [
    "\n",
    "for i in range(2):\n",
    "    features_training_2 = PolynomialFeatures(degree=i+2, include_bias=False).fit_transform(features_training)\n",
    "    features_testing_2 = PolynomialFeatures(degree=i+2, include_bias=False).fit_transform(features_testing)\n",
    "    model_2_2 = LinearRegression().fit(features_training_2, prices_training)\n",
    "    #testing set error \n",
    "    price_pred_training_2 = model_2_2.predict(features_testing_2)\n",
    "    x_training_2= prices_testing-price_pred_training_2\n",
    "    m_training_2=price_pred_training_2.size\n",
    "    print((1/(2*m_training_2))*np.dot(x_training_2.T,x_training_2))\n"
   ]
  },
  {
   "cell_type": "markdown",
   "metadata": {},
   "source": [
    "Now, we will split out data set into three sets: training, cross validation, and testing"
   ]
  },
  {
   "cell_type": "code",
   "execution_count": 7,
   "metadata": {},
   "outputs": [],
   "source": [
    "#training data set\n",
    "features_training = data_read[0:10799, 3:21].astype(np.float64)\n",
    "prices_training   = data_read[0:10799, 2:3].astype(np.float64)\n",
    "#testing data set\n",
    "features_testing  = data_read[10800:14400, 3:21].astype(np.float64)\n",
    "prices_testing    = data_read[10800:14400, 2:3].astype(np.float64)\n",
    "#cross validation data set\n",
    "features_cv = data_read[14401:17999, 3:21].astype(np.float64)\n",
    "prices_cv   = data_read[14401:17999, 2:3].astype(np.float64)\n"
   ]
  },
  {
   "cell_type": "markdown",
   "metadata": {},
   "source": [
    "Now, we will apply linear regression with polynomials of degrees 1,2,3. "
   ]
  },
  {
   "cell_type": "code",
   "execution_count": 8,
   "metadata": {},
   "outputs": [
    {
     "name": "stdout",
     "output_type": "stream",
     "text": [
      "[[1.87963955e+10]]\n",
      "[[1.78897098e+10]]\n",
      "[[1.31019253e+10]]\n",
      "[[1.19558349e+10]]\n",
      "[[2.56123169e+10]]\n",
      "[[8.00074617e+10]]\n"
     ]
    }
   ],
   "source": [
    "for i in range(3):\n",
    "    features_training_2 = PolynomialFeatures(degree=i+1, include_bias=False).fit_transform(features_training)\n",
    "    #testing set error \n",
    "    features_testing_2 = PolynomialFeatures(degree=i+1, include_bias=False).fit_transform(features_testing)\n",
    "    model_2_2 = LinearRegression().fit(features_training_2, prices_training)\n",
    "    price_pred_training_2 = model_2_2.predict(features_testing_2)\n",
    "    x_training_2= prices_testing-price_pred_training_2\n",
    "    m_training_2=price_pred_training_2.size\n",
    "    print((1/(2*m_training_2))*np.dot(x_training_2.T,x_training_2))\n",
    "    #cross validation set error \n",
    "    features_cv_2 = PolynomialFeatures(degree=i+1, include_bias=False).fit_transform(features_cv)\n",
    "    price_pred_cv_2 = model_2_2.predict(features_cv_2)\n",
    "    x_training_2= prices_cv-price_pred_cv_2\n",
    "    m_training_2=price_pred_cv_2.size\n",
    "    print((1/(2*m_training_2))*np.dot(x_training_2.T,x_training_2))\n",
    "    "
   ]
  },
  {
   "cell_type": "code",
   "execution_count": null,
   "metadata": {},
   "outputs": [],
   "source": []
  }
 ],
 "metadata": {
  "kernelspec": {
   "display_name": "Python 3",
   "language": "python",
   "name": "python3"
  },
  "language_info": {
   "codemirror_mode": {
    "name": "ipython",
    "version": 3
   },
   "file_extension": ".py",
   "mimetype": "text/x-python",
   "name": "python",
   "nbconvert_exporter": "python",
   "pygments_lexer": "ipython3",
   "version": "3.7.4"
  }
 },
 "nbformat": 4,
 "nbformat_minor": 2
}
